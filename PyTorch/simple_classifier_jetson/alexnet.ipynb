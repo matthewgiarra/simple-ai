{
 "cells": [
  {
   "cell_type": "code",
   "execution_count": null,
   "metadata": {},
   "outputs": [],
   "source": [
    "# Adapted from: https://pytorch.org/hub/pytorch_vision_alexnet/\n",
    "# Matthew Giarra <matthew.giarra@jhuapl.edu>\n",
    "# Created: 30 June 2020\n",
    "# Modified: 30 June 2020\n",
    "\n",
    "from PIL import Image # For loading images\n",
    "import torch\n",
    "import torchvision\n",
    "import numpy as np\n",
    "import ast # For reading labels file\n",
    "\n",
    "# Load the model\n",
    "model = torchvision.models.alexnet(pretrained=True)\n",
    "\n",
    "# Set the model to evaluation mode\n",
    "model.eval()\n",
    "\n",
    "# Load the image that we'll classify. \n",
    "input_image = Image.open('cat.jpg')\n",
    "\n",
    "# Define some image preprocessing. \n",
    "# This is required for Alexnet trained on Imagenet.\n",
    "# (i.e., this block is reusable)\n",
    "preprocess = torchvision.transforms.Compose([\n",
    "    torchvision.transforms.Resize(256),\n",
    "    torchvision.transforms.CenterCrop(224),\n",
    "    torchvision.transforms.ToTensor(),\n",
    "    torchvision.transforms.Normalize(mean=[0.485, 0.456, 0.406], std=[0.229, 0.224, 0.225]),\n",
    "])\n",
    "\n",
    "# Normalize the image so it's consistent with training data\n",
    "input_tensor = preprocess(input_image)\n",
    "\n",
    "# Resize the image\n",
    "input_batch = input_tensor.unsqueeze(0) # create a mini-batch as expected by the model\n",
    "\n",
    "# move the input and model to GPU for speed if available\n",
    "if torch.cuda.is_available():\n",
    "    input_batch = input_batch.to('cuda')\n",
    "    model.to('cuda')\n",
    "\n",
    "# Turns off gradient calculation for better inference performance\n",
    "with torch.no_grad():\n",
    "    output = model(input_batch)\n",
    "\n",
    "# If the model ran on the GPU, you have to copy\n",
    "# the results back to the CPU to inspect them\n",
    "output_cpu = output.cpu().detach().numpy()\n",
    "\n",
    "# Find the max\n",
    "idx = np.argmax(output_cpu)\n",
    "\n",
    "# Read the labels file and print the entry \n",
    "# corresponding to the max value in the class vector\n",
    "with open('imagenet_labels.txt', 'r') as file:\n",
    "    contents = file.read()\n",
    "    labels = ast.literal_eval(contents)\n",
    "print(labels[idx])"
   ]
  },
  {
   "cell_type": "markdown",
   "metadata": {},
   "source": [
    "If the words `Persian cat` print out above, then it worked!"
   ]
  }
 ],
 "metadata": {
  "kernelspec": {
   "display_name": "Python 3",
   "language": "python",
   "name": "python3"
  },
  "language_info": {
   "codemirror_mode": {
    "name": "ipython",
    "version": 3
   },
   "file_extension": ".py",
   "mimetype": "text/x-python",
   "name": "python",
   "nbconvert_exporter": "python",
   "pygments_lexer": "ipython3",
   "version": "3.6.9"
  }
 },
 "nbformat": 4,
 "nbformat_minor": 4
}
